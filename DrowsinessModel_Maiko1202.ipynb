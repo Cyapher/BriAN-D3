{
 "cells": [
  {
   "cell_type": "code",
   "execution_count": 1,
   "id": "90e555e1",
   "metadata": {
    "ExecuteTime": {
     "end_time": "2023-12-04T02:46:02.268333Z",
     "start_time": "2023-12-04T02:45:51.826597Z"
    },
    "code_folding": []
   },
   "outputs": [
    {
     "name": "stderr",
     "output_type": "stream",
     "text": [
      "C:\\Users\\michael\\miniconda3\\envs\\torch\\lib\\site-packages\\tensorflow_addons\\utils\\tfa_eol_msg.py:23: UserWarning: \n",
      "\n",
      "TensorFlow Addons (TFA) has ended development and introduction of new features.\n",
      "TFA has entered a minimal maintenance and release mode until a planned end of life in May 2024.\n",
      "Please modify downstream libraries to take dependencies from other repositories in our TensorFlow community (e.g. Keras, Keras-CV, and Keras-NLP). \n",
      "\n",
      "For more information see: https://github.com/tensorflow/addons/issues/2807 \n",
      "\n",
      "  warnings.warn(\n",
      "C:\\Users\\michael\\miniconda3\\envs\\torch\\lib\\site-packages\\tensorflow_addons\\utils\\ensure_tf_install.py:53: UserWarning: Tensorflow Addons supports using Python ops for all Tensorflow versions above or equal to 2.12.0 and strictly below 2.15.0 (nightly versions are not supported). \n",
      " The versions of TensorFlow you are currently using is 2.10.0 and is not supported. \n",
      "Some things might work, some things might not.\n",
      "If you were to encounter a bug, do not file an issue.\n",
      "If you want to make sure you're using a tested and supported configuration, either change the TensorFlow version or the TensorFlow Addons's version. \n",
      "You can find the compatibility matrix in TensorFlow Addon's readme:\n",
      "https://github.com/tensorflow/addons\n",
      "  warnings.warn(\n"
     ]
    }
   ],
   "source": [
    "# ===================== IMPORTS/LIBRARIES =====================\n",
    "\n",
    "import tensorflow as tf\n",
    "from mtcnn import MTCNN\n",
    "from pathlib import Path\n",
    "import pandas as pd\n",
    "import glob\n",
    "import cv2\n",
    "import numpy as np\n",
    "import csv\n",
    "import os\n",
    "import ast\n",
    "import pydot\n",
    "import pydotplus\n",
    "import graphviz\n",
    "from datetime import datetime\n",
    "import matplotlib.pyplot as plt\n",
    "import seaborn as sns\n",
    "from sklearn.metrics import confusion_matrix\n",
    "from sklearn.metrics import accuracy_score\n",
    "\n",
    "import tensorflow_addons as tfa\n",
    "\n",
    "import time\n",
    "\n",
    "from tensorflow.keras.optimizers import Adam\n",
    "from tensorflow.keras.models import Model\n",
    "from tensorflow.keras.callbacks import Callback"
   ]
  },
  {
   "cell_type": "code",
   "execution_count": 14,
   "id": "5eff3e63",
   "metadata": {
    "ExecuteTime": {
     "end_time": "2023-12-01T13:03:15.224230Z",
     "start_time": "2023-12-01T13:03:15.207193Z"
    },
    "code_folding": [
     0
    ]
   },
   "outputs": [],
   "source": [
    "# ===================== TRAINING HISTORY FUNCTIONS =====================\n",
    "def historyToCsv():\n",
    "    # convert the history.history dict to a pandas DataFrame:     \n",
    "    hist_df = pd.DataFrame(history.history) \n",
    "    \n",
    "    current_datetime = datetime.now()\n",
    "\n",
    "    # Convert the datetime object to a string\n",
    "    filename_friendly_datetime_string = current_datetime.strftime(\"%Y-%m-%d_%H-%M-%S\")\n",
    "    \n",
    "    # save to csv: \n",
    "    hist_csv_file = 'history' + filename_friendly_datetime_string + '.csv'\n",
    "    with open(hist_csv_file, mode='w') as f:\n",
    "        hist_df.to_csv(f)\n",
    "\n",
    "def csvToHistory(csv_filename):\n",
    "    # Read the CSV file into a pandas DataFrame\n",
    "    hist_df = pd.read_csv(csv_filename, index_col=0)\n",
    "\n",
    "    # Convert the DataFrame to a dictionary\n",
    "    history_dict = hist_df.to_dict(orient='list')\n",
    "\n",
    "    return history_dict"
   ]
  },
  {
   "cell_type": "code",
   "execution_count": 3,
   "id": "53a5ec0f",
   "metadata": {
    "ExecuteTime": {
     "end_time": "2023-12-04T02:46:46.610032Z",
     "start_time": "2023-12-04T02:46:40.515808Z"
    },
    "code_folding": [],
    "scrolled": true
   },
   "outputs": [
    {
     "name": "stdout",
     "output_type": "stream",
     "text": [
      "Layer 0: input_1, Trainable: True\n",
      "Layer 1: block1_conv1, Trainable: True\n",
      "Layer 2: block1_conv2, Trainable: True\n",
      "Layer 3: block1_pool, Trainable: True\n",
      "Layer 4: block2_conv1, Trainable: True\n",
      "Layer 5: block2_conv2, Trainable: True\n",
      "Layer 6: block2_pool, Trainable: True\n",
      "Layer 7: block3_conv1, Trainable: True\n",
      "Layer 8: block3_conv2, Trainable: True\n",
      "Layer 9: block3_conv3, Trainable: True\n",
      "Layer 10: block3_pool, Trainable: True\n",
      "Layer 11: block4_conv1, Trainable: True\n",
      "Layer 12: block4_conv2, Trainable: True\n",
      "Layer 13: block4_conv3, Trainable: True\n",
      "Layer 14: block4_pool, Trainable: True\n",
      "Layer 15: block5_conv1, Trainable: True\n",
      "Layer 16: block5_conv2, Trainable: True\n",
      "Layer 17: block5_conv3, Trainable: True\n",
      "Layer 18: block5_pool, Trainable: True\n",
      "Layer 19: flattened_features, Trainable: True\n",
      "Layer 20: embedding, Trainable: True\n",
      "Layer 21: additional_dense1, Trainable: True\n",
      "Layer 22: additional_dense3, Trainable: True\n",
      "Layer 23: additional_dense2, Trainable: True\n",
      "Layer 24: additional_dense4, Trainable: True\n",
      "Layer 25: landmark_output, Trainable: True\n",
      "Layer 26: previous_illuminance_output, Trainable: True\n"
     ]
    }
   ],
   "source": [
    "# ===================== DROWSINESS MODEL =====================\n",
    "\n",
    "# import multi-task model keras file (rename accordingly depending on what multitask model was trained)\n",
    "multi_task_model = tf.keras.models.load_model('LandmarksIlluminanceModel.keras')\n",
    "\n",
    "# Unfreeze specific layers in the range\n",
    "# for layer in multi_task_model.layers[0:20]:\n",
    "#     layer.trainable = False\n",
    "\n",
    "# Display information about the layers and their trainability\n",
    "for i, layer in enumerate(multi_task_model.layers):\n",
    "    print(f\"Layer {i}: {layer.name}, Trainable: {layer.trainable}\")\n",
    "    \n",
    "# retain weights and remove top layer\n",
    "output_layer = multi_task_model.get_layer('embedding').output\n",
    "\n",
    "drowsiness_model = Model(inputs=multi_task_model.input, outputs=output_layer)\n",
    "\n",
    "# drowsiness_model.summary()\n",
    "# tf.keras.utils.plot_model(drowsiness_model)\n",
    "from keras.utils.vis_utils import plot_model\n",
    "# plot_model(drowsiness_model, to_file='drowsinessModel_plot.png', show_shapes=True, show_layer_names=True)\n",
    "\n",
    "existing_output = drowsiness_model.output\n",
    "\n",
    "reshaped_output = tf.keras.layers.Reshape((16, 16, 2))(existing_output)\n",
    "\n",
    "\n",
    "spatial_attention = tf.keras.layers.Conv2D(2, (1, 1), activation='sigmoid', padding='same')(reshaped_output)\n",
    "\n",
    "dropout_layer1 = tf.keras.layers.Dropout(rate=0.2, name=\"dropout_layer1\")(spatial_attention)\n",
    "\n",
    "spatial_attention = tf.keras.layers.Softmax()(spatial_attention)\n",
    "output_tensor = tf.keras.layers.Multiply()([reshaped_output, spatial_attention])\n",
    "\n",
    "# Add Global Average Pooling layer\n",
    "output_tensor = tf.keras.layers.GlobalAveragePooling2D()(output_tensor)\n",
    "\n",
    "# Add output layer with two classes and softmax activation\n",
    "predictions = tf.keras.layers.Dense(1, activation='sigmoid', name='drowsiness_output')(output_tensor)\n",
    "\n",
    "# Create the new model with the modified top layers\n",
    "drowsiness_model = Model(inputs=drowsiness_model.input, outputs=predictions)"
   ]
  },
  {
   "cell_type": "code",
   "execution_count": 4,
   "id": "371806a0",
   "metadata": {
    "ExecuteTime": {
     "end_time": "2023-12-04T02:46:52.330603Z",
     "start_time": "2023-12-04T02:46:52.219522Z"
    }
   },
   "outputs": [
    {
     "name": "stdout",
     "output_type": "stream",
     "text": [
      "Model: \"model_1\"\n",
      "__________________________________________________________________________________________________\n",
      " Layer (type)                   Output Shape         Param #     Connected to                     \n",
      "==================================================================================================\n",
      " input_1 (InputLayer)           [(None, 224, 224, 3  0           []                               \n",
      "                                )]                                                                \n",
      "                                                                                                  \n",
      " block1_conv1 (Conv2D)          (None, 224, 224, 64  1792        ['input_1[0][0]']                \n",
      "                                )                                                                 \n",
      "                                                                                                  \n",
      " block1_conv2 (Conv2D)          (None, 224, 224, 64  36928       ['block1_conv1[0][0]']           \n",
      "                                )                                                                 \n",
      "                                                                                                  \n",
      " block1_pool (MaxPooling2D)     (None, 112, 112, 64  0           ['block1_conv2[0][0]']           \n",
      "                                )                                                                 \n",
      "                                                                                                  \n",
      " block2_conv1 (Conv2D)          (None, 112, 112, 12  73856       ['block1_pool[0][0]']            \n",
      "                                8)                                                                \n",
      "                                                                                                  \n",
      " block2_conv2 (Conv2D)          (None, 112, 112, 12  147584      ['block2_conv1[0][0]']           \n",
      "                                8)                                                                \n",
      "                                                                                                  \n",
      " block2_pool (MaxPooling2D)     (None, 56, 56, 128)  0           ['block2_conv2[0][0]']           \n",
      "                                                                                                  \n",
      " block3_conv1 (Conv2D)          (None, 56, 56, 256)  295168      ['block2_pool[0][0]']            \n",
      "                                                                                                  \n",
      " block3_conv2 (Conv2D)          (None, 56, 56, 256)  590080      ['block3_conv1[0][0]']           \n",
      "                                                                                                  \n",
      " block3_conv3 (Conv2D)          (None, 56, 56, 256)  590080      ['block3_conv2[0][0]']           \n",
      "                                                                                                  \n",
      " block3_pool (MaxPooling2D)     (None, 28, 28, 256)  0           ['block3_conv3[0][0]']           \n",
      "                                                                                                  \n",
      " block4_conv1 (Conv2D)          (None, 28, 28, 512)  1180160     ['block3_pool[0][0]']            \n",
      "                                                                                                  \n",
      " block4_conv2 (Conv2D)          (None, 28, 28, 512)  2359808     ['block4_conv1[0][0]']           \n",
      "                                                                                                  \n",
      " block4_conv3 (Conv2D)          (None, 28, 28, 512)  2359808     ['block4_conv2[0][0]']           \n",
      "                                                                                                  \n",
      " block4_pool (MaxPooling2D)     (None, 14, 14, 512)  0           ['block4_conv3[0][0]']           \n",
      "                                                                                                  \n",
      " block5_conv1 (Conv2D)          (None, 14, 14, 512)  2359808     ['block4_pool[0][0]']            \n",
      "                                                                                                  \n",
      " block5_conv2 (Conv2D)          (None, 14, 14, 512)  2359808     ['block5_conv1[0][0]']           \n",
      "                                                                                                  \n",
      " block5_conv3 (Conv2D)          (None, 14, 14, 512)  2359808     ['block5_conv2[0][0]']           \n",
      "                                                                                                  \n",
      " block5_pool (MaxPooling2D)     (None, 7, 7, 512)    0           ['block5_conv3[0][0]']           \n",
      "                                                                                                  \n",
      " flattened_features (Flatten)   (None, 25088)        0           ['block5_pool[0][0]']            \n",
      "                                                                                                  \n",
      " embedding (Dense)              (None, 512)          12845568    ['flattened_features[0][0]']     \n",
      "                                                                                                  \n",
      " reshape (Reshape)              (None, 16, 16, 2)    0           ['embedding[0][0]']              \n",
      "                                                                                                  \n",
      " conv2d (Conv2D)                (None, 16, 16, 2)    6           ['reshape[0][0]']                \n",
      "                                                                                                  \n",
      " softmax (Softmax)              (None, 16, 16, 2)    0           ['conv2d[0][0]']                 \n",
      "                                                                                                  \n",
      " multiply (Multiply)            (None, 16, 16, 2)    0           ['reshape[0][0]',                \n",
      "                                                                  'softmax[0][0]']                \n",
      "                                                                                                  \n",
      " global_average_pooling2d (Glob  (None, 2)           0           ['multiply[0][0]']               \n",
      " alAveragePooling2D)                                                                              \n",
      "                                                                                                  \n",
      " drowsiness_output (Dense)      (None, 1)            3           ['global_average_pooling2d[0][0]'\n",
      "                                                                 ]                                \n",
      "                                                                                                  \n",
      "==================================================================================================\n",
      "Total params: 27,560,265\n",
      "Trainable params: 27,560,265\n",
      "Non-trainable params: 0\n",
      "__________________________________________________________________________________________________\n"
     ]
    }
   ],
   "source": [
    "drowsiness_model.compile(\n",
    "    optimizer=Adam(learning_rate=0.00001),\n",
    "    loss={\n",
    "        'drowsiness_output': 'binary_crossentropy'\n",
    "    },\n",
    "    metrics={\n",
    "        'drowsiness_output': [\n",
    "                             tf.keras.metrics.BinaryAccuracy(name='accuracy'),\n",
    "                             tf.keras.metrics.Precision(name='precision'),\n",
    "                             tf.keras.metrics.Recall(name='recall'),\n",
    "                             tfa.metrics.F1Score(num_classes=1, threshold=0.5)]\n",
    "    }\n",
    ")\n",
    "\n",
    "drowsiness_model.summary()"
   ]
  },
  {
   "cell_type": "code",
   "execution_count": 17,
   "id": "c925e391",
   "metadata": {
    "ExecuteTime": {
     "end_time": "2023-12-01T13:03:18.749353Z",
     "start_time": "2023-12-01T13:03:18.739729Z"
    },
    "scrolled": true
   },
   "outputs": [
    {
     "name": "stdout",
     "output_type": "stream",
     "text": [
      "Layer input_3: Trainable - True\n",
      "Layer block1_conv1: Trainable - True\n",
      "Layer block1_conv2: Trainable - True\n",
      "Layer block1_pool: Trainable - True\n",
      "Layer block2_conv1: Trainable - True\n",
      "Layer block2_conv2: Trainable - True\n",
      "Layer block2_pool: Trainable - True\n",
      "Layer block3_conv1: Trainable - True\n",
      "Layer block3_conv2: Trainable - True\n",
      "Layer block3_conv3: Trainable - True\n",
      "Layer block3_pool: Trainable - True\n",
      "Layer block4_conv1: Trainable - True\n",
      "Layer block4_conv2: Trainable - True\n",
      "Layer block4_conv3: Trainable - True\n",
      "Layer block4_pool: Trainable - True\n",
      "Layer block5_conv1: Trainable - True\n",
      "Layer block5_conv2: Trainable - True\n",
      "Layer block5_conv3: Trainable - True\n",
      "Layer block5_pool: Trainable - True\n",
      "Layer flattened_features: Trainable - True\n",
      "Layer embedding: Trainable - True\n",
      "Layer reshape_2: Trainable - True\n",
      "Layer conv2d_2: Trainable - True\n",
      "Layer softmax_2: Trainable - True\n",
      "Layer multiply_2: Trainable - True\n",
      "Layer global_average_pooling2d_2: Trainable - True\n",
      "Layer drowsiness_output: Trainable - True\n"
     ]
    }
   ],
   "source": [
    "for layer in drowsiness_model.layers:\n",
    "    print(f\"Layer {layer.name}: Trainable - {layer.trainable}\")"
   ]
  },
  {
   "cell_type": "code",
   "execution_count": 5,
   "id": "e4748c6a",
   "metadata": {
    "ExecuteTime": {
     "end_time": "2023-12-04T02:47:03.408069Z",
     "start_time": "2023-12-04T02:47:03.381141Z"
    },
    "code_folding": [
     0
    ]
   },
   "outputs": [],
   "source": [
    "# ===================== ORIGINAL DATA GEN CLASS =====================\n",
    "\n",
    "class CustomDataGen(tf.keras.utils.Sequence):\n",
    "    \n",
    "    def __init__(self, df, X_col, y_col,\n",
    "                 batch_size,\n",
    "                 input_size=(224, 224, 3),\n",
    "                 shuffle=True,\n",
    "                 random_seed=None):  # Add a new parameter for random seed\n",
    "        \n",
    "        self.df = df.copy()\n",
    "        self.X_col = X_col\n",
    "        self.y_col = y_col\n",
    "        self.batch_size = batch_size\n",
    "        self.input_size = input_size\n",
    "        self.shuffle = shuffle\n",
    "        self.random_seed = random_seed  # Store the random seed\n",
    "        \n",
    "        self.n = len(self.df)\n",
    "#         self.n_coords = 2  # Assuming landmark coordinates are 2-dimensional\n",
    "        self.n_drowsiness = 1  # Assuming a single illuminance value\n",
    "    \n",
    "    def on_epoch_end(self):\n",
    "        if self.shuffle:\n",
    "            self.df = self.df.sample(frac=1, random_state=self.random_seed).reset_index(drop=True)  # Use the random seed\n",
    "    \n",
    "    def __get_input(self, path, target_size):\n",
    "    \n",
    "        image = tf.keras.preprocessing.image.load_img(path)\n",
    "        image_arr = tf.keras.preprocessing.image.img_to_array(image)\n",
    "\n",
    "        image_arr = tf.image.resize(image_arr, (target_size[0], target_size[1])).numpy()\n",
    "\n",
    "        return image_arr / 255.\n",
    "    \n",
    "    def __get_output(self, label, output_type):\n",
    "        # Assuming output_type is 'coordinates', 'illuminance', or 'adjusted_image_path'\n",
    "#         if output_type == 'coordinates':\n",
    "#             # Assuming label is a string containing a dictionary-like structure\n",
    "#             # Safely evaluate the string as a literal dictionary using ast.literal_eval\n",
    "#             coordinates_dict = ast.literal_eval(label)\n",
    "            \n",
    "#             # Extract x and y coordinates for each landmark\n",
    "#             landmarks = ['left_eye', 'right_eye', 'nose', 'mouth_left', 'mouth_right']\n",
    "#             coordinates_list = [coordinates_dict[landmark] for landmark in landmarks]\n",
    "            \n",
    "#             # Flatten the list and convert to numpy array\n",
    "#             coordinates_array = np.array([coord for landmark_coords in coordinates_list for coord in landmark_coords])\n",
    "            \n",
    "# #             print(\"Shape of landmarks_array:\", coordinates_array.shape)\n",
    "            \n",
    "#             # If there are exactly 10 values, return the array, otherwise raise an error\n",
    "#             if len(coordinates_array) == 10:\n",
    "#                 return coordinates_array\n",
    "#             else:\n",
    "#                 raise ValueError(\"Expected 10 coordinates, but found {}\".format(len(coordinates_array)))\n",
    "#         elif output_type == 'illuminance':\n",
    "#             # Convert the illuminance value to a float\n",
    "#             return float(label)\n",
    "#         elif output_type == 'adjusted_image_path':\n",
    "#             # Assuming label is the path to the adjusted image\n",
    "#             return self.__get_input(label, self.input_size)\n",
    "        if output_type == 'drowsiness':\n",
    "            # Convert the illuminance value to a float\n",
    "            return int(label)\n",
    "    \n",
    "    def __get_data(self, batches):\n",
    "        # Generates data containing batch_size samples\n",
    "\n",
    "        path_batch = batches[self.X_col['path']]\n",
    "        \n",
    "#         coords_batch = batches[self.y_col['coordinates']]\n",
    "        illuminance_batch = batches[self.y_col['drowsiness']]\n",
    "#         adjusted_image_path_batch = batches[self.y_col['adjusted_image_path']]\n",
    "\n",
    "        X_batch = np.asarray([self.__get_input(x, self.input_size) for x in path_batch])\n",
    "\n",
    "#         y0_batch = np.asarray([self.__get_output(y, 'coordinates') for y in coords_batch])\n",
    "        y0_batch = np.asarray([self.__get_output(y, 'drowsiness') for y in illuminance_batch])\n",
    "#         y2_batch = np.asarray([self.__get_output(y, 'adjusted_image_path') for y in adjusted_image_path_batch])\n",
    "\n",
    "        return X_batch, [y0_batch]\n",
    "    \n",
    "    def __getitem__(self, index):\n",
    "        batches = self.df[index * self.batch_size:(index + 1) * self.batch_size]\n",
    "        X, y = self.__get_data(batches)\n",
    "\n",
    "        # Print a few examples of the data\n",
    "#         print(\"Sample X:\", tf.shape(X[0]))  # Print the first example in the batch\n",
    "#         print(\"Sample y[0] (landmarks):\", tf.shape(y[0][0]))  # Print the first example in the landmarks output\n",
    "#         print(\"Sample y[1] (illum):\", tf.shape(y[1][0]))  # Print the first example in the illum output\n",
    "#         print(\"Sample y[2] (adjusted_image_path):\", tf.shape(y[2][0]))  # Print the first example in the adjusted_image_path output\n",
    "\n",
    "        return X, y\n",
    "    \n",
    "    def __len__(self):\n",
    "        return self.n // self.batch_size"
   ]
  },
  {
   "cell_type": "code",
   "execution_count": 6,
   "id": "85b8a51a",
   "metadata": {
    "ExecuteTime": {
     "end_time": "2023-12-04T02:47:04.313893Z",
     "start_time": "2023-12-04T02:47:04.098429Z"
    },
    "code_folding": []
   },
   "outputs": [],
   "source": [
    "# ===================== DATA GEN SETUP (DROWSINESS TASK) =====================\n",
    "\n",
    "test_df = pd.read_csv(\"./data/illuminance_results.csv\") # path to test_data csv\n",
    "test_df[\"Filename\"] = \"./data/Training/\" + test_df[\"Filename\"]\n",
    "\n",
    "def getDrowsiness(filename):\n",
    "    index = filename.rfind('.')\n",
    "    return filename[index - 1] if index >= 1 else None\n",
    "\n",
    "test_df[\"Drowsiness\"] = test_df[\"Filename\"].apply(getDrowsiness).astype(int)\n",
    "\n",
    "\n",
    "eval_df = pd.read_csv(\"./data/illuminance_results_eval.csv\") # path to test_data csv\n",
    "eval_df[\"Filename\"] = \"./data/Evaluation/Evaluation/\" + eval_df[\"Filename\"]\n",
    "\n",
    "def getDrowsiness(filename):\n",
    "    index = filename.rfind('.')\n",
    "    return filename[index - 1] if index >= 1 else None\n",
    "\n",
    "eval_df[\"Drowsiness\"] = eval_df[\"Filename\"].apply(getDrowsiness).astype(int)\n",
    "\n",
    "\n",
    "test_gen = CustomDataGen(df=test_df, X_col={'path': 'Filename'}, y_col={'drowsiness': 'Drowsiness'}, batch_size=32, input_size=(224, 224, 3), random_seed=438)\n",
    "eval_gen = CustomDataGen(df=eval_df, X_col={'path': 'Filename'}, y_col={'drowsiness': 'Drowsiness'}, batch_size=32, input_size=(224, 224, 3), random_seed=438)"
   ]
  },
  {
   "cell_type": "code",
   "execution_count": 7,
   "id": "a8f64e9d",
   "metadata": {
    "ExecuteTime": {
     "end_time": "2023-12-04T02:47:06.877384Z",
     "start_time": "2023-12-04T02:47:06.862424Z"
    },
    "code_folding": []
   },
   "outputs": [],
   "source": [
    "class DynamicLearningRateScheduler(Callback):\n",
    "    def __init__(self, monitor_metric='val_loss', patience=3, factor=0.5, min_lr=1e-6):\n",
    "        super(DynamicLearningRateScheduler, self).__init__()\n",
    "        self.monitor_metric = monitor_metric\n",
    "        self.patience = patience\n",
    "        self.factor = factor\n",
    "        self.min_lr = min_lr\n",
    "        self.wait = 0\n",
    "        self.best_metric = float('inf')\n",
    "\n",
    "    def on_epoch_end(self, epoch, logs=None):\n",
    "        current_metric = logs.get(self.monitor_metric)\n",
    "\n",
    "        if current_metric is None:\n",
    "            raise ValueError(f\"Metric {self.monitor_metric} not found in training logs.\")\n",
    "\n",
    "        if current_metric < self.best_metric:\n",
    "            self.best_metric = current_metric\n",
    "            self.wait = 0\n",
    "        else:\n",
    "            self.wait += 1\n",
    "            if self.wait >= self.patience:\n",
    "                new_lr = max(self.model.optimizer.lr * self.factor, self.min_lr)\n",
    "                self.model.optimizer.lr = new_lr\n",
    "                print(f\"\\nLearning rate reduced to {new_lr}.\")\n",
    "                self.wait = 0\n",
    "\n",
    "dynamicLearningCallback = DynamicLearningRateScheduler(monitor_metric='val_loss', patience=3, factor=0.5, min_lr=1e-6)"
   ]
  },
  {
   "cell_type": "code",
   "execution_count": null,
   "id": "56856d95",
   "metadata": {
    "ExecuteTime": {
     "start_time": "2023-12-04T02:47:10.438Z"
    }
   },
   "outputs": [
    {
     "name": "stdout",
     "output_type": "stream",
     "text": [
      "Epoch 1/10\n",
      "940/940 [==============================] - 1196s 1s/step - loss: 0.6855 - accuracy: 0.5789 - precision: 0.5789 - recall: 1.0000 - f1_score: 0.7333 - val_loss: 0.7001 - val_accuracy: 0.5084 - val_precision: 0.5084 - val_recall: 1.0000 - val_f1_score: 0.6741\n",
      "Epoch 2/10\n",
      "940/940 [==============================] - 981s 1s/step - loss: 0.6808 - accuracy: 0.5787 - precision: 0.5787 - recall: 1.0000 - f1_score: 0.7331 - val_loss: 0.7034 - val_accuracy: 0.5084 - val_precision: 0.5084 - val_recall: 1.0000 - val_f1_score: 0.6741\n",
      "Epoch 3/10\n",
      "940/940 [==============================] - 1023s 1s/step - loss: 0.6808 - accuracy: 0.5787 - precision: 0.5787 - recall: 1.0000 - f1_score: 0.7331 - val_loss: 0.7035 - val_accuracy: 0.5084 - val_precision: 0.5084 - val_recall: 1.0000 - val_f1_score: 0.6741\n",
      "Epoch 4/10\n",
      " 98/940 [==>...........................] - ETA: 10:34 - loss: 0.6797 - accuracy: 0.5823 - precision: 0.5823 - recall: 1.0000 - f1_score: 0.7360"
     ]
    }
   ],
   "source": [
    "evaluation_result = drowsiness_model.fit(test_gen, epochs=10, validation_data=eval_gen, callbacks=[dynamicLearningCallback])"
   ]
  },
  {
   "cell_type": "code",
   "execution_count": 22,
   "id": "ce1514eb",
   "metadata": {
    "ExecuteTime": {
     "end_time": "2023-12-01T15:01:53.329052Z",
     "start_time": "2023-12-01T15:01:48.551992Z"
    }
   },
   "outputs": [
    {
     "name": "stderr",
     "output_type": "stream",
     "text": [
      "WARNING:absl:Found untraced functions such as _jit_compiled_convolution_op, _jit_compiled_convolution_op, _jit_compiled_convolution_op, _jit_compiled_convolution_op, _jit_compiled_convolution_op while saving (showing 5 of 14). These functions will not be directly callable after loading.\n"
     ]
    },
    {
     "name": "stdout",
     "output_type": "stream",
     "text": [
      "INFO:tensorflow:Assets written to: DrowsinessModel_IllumsOnly\\assets\n"
     ]
    },
    {
     "name": "stderr",
     "output_type": "stream",
     "text": [
      "INFO:tensorflow:Assets written to: DrowsinessModel_IllumsOnly\\assets\n"
     ]
    }
   ],
   "source": [
    "drowsiness_model.save(\"DrowsinessModel_IllumsOnly\")"
   ]
  },
  {
   "cell_type": "code",
   "execution_count": 25,
   "id": "2e53f316",
   "metadata": {
    "ExecuteTime": {
     "end_time": "2023-12-01T15:57:12.033896Z",
     "start_time": "2023-12-01T15:50:37.432497Z"
    }
   },
   "outputs": [
    {
     "name": "stdout",
     "output_type": "stream",
     "text": [
      "Found 29727 images belonging to 2 classes.\n",
      "num_batches: 929\n",
      "929/929 [==============================] - 115s 123ms/step\n"
     ]
    }
   ],
   "source": [
    "from keras.preprocessing.image import ImageDataGenerator\n",
    "\n",
    "main_directory = './Testing/Testing/'\n",
    "\n",
    "data_generator = ImageDataGenerator(\n",
    "    rescale=1./255\n",
    ")\n",
    "\n",
    "# Create a data generator\n",
    "X_test = data_generator.flow_from_directory(\n",
    "    main_directory,\n",
    "    target_size=(224, 224),\n",
    "    batch_size=32,\n",
    "    class_mode='binary',  # Set to 'binary' since you have two classes\n",
    "    shuffle=False  # Set to True for training, False for prediction\n",
    ")\n",
    "\n",
    "# Obtain the mapping between filenames and labels\n",
    "filename_label_mapping = X_test.class_indices\n",
    "\n",
    "# print(filename_label_mapping)\n",
    "\n",
    "# Iterate over the generator to load all labels\n",
    "all_labels = []\n",
    "num_batches = len(X_test)\n",
    "for i in range(num_batches):\n",
    "    _, labels = X_test[i]\n",
    "    all_labels.extend(labels)\n",
    "\n",
    "print(f'num_batches: { num_batches}')\n",
    "# Convert labels to a NumPy array\n",
    "labels_array = np.array(all_labels)\n",
    "\n",
    "# Convert numerical labels to class labels without periods\n",
    "class_names = list(filename_label_mapping.keys())\n",
    "y_true = [class_names[int(label)] for label in labels_array]\n",
    "y_true = np.array(y_true, dtype=int)\n",
    "\n",
    "y_pred = drowsiness_model.predict(X_test)\n",
    "y_pred = (y_pred > 0.5).astype(int) # prediction\n",
    "\n",
    "# Create confusion matrix\n",
    "cm = confusion_matrix(y_true, y_pred)"
   ]
  },
  {
   "cell_type": "code",
   "execution_count": 26,
   "id": "47fb80a5",
   "metadata": {
    "ExecuteTime": {
     "end_time": "2023-12-01T15:57:20.172705Z",
     "start_time": "2023-12-01T15:57:19.798895Z"
    }
   },
   "outputs": [
    {
     "data": {
      "image/png": "[encoded data removed]",
      "text/plain": [
       "<Figure size 800x600 with 1 Axes>"
      ]
     },
     "metadata": {},
     "output_type": "display_data"
    },
    {
     "name": "stdout",
     "output_type": "stream",
     "text": [
      "Accuracy: 50.23%\n"
     ]
    }
   ],
   "source": [
    "plt.figure(figsize=(8, 6))\n",
    "sns.heatmap(cm, annot=True, fmt='d', cmap='Blues', cbar=False,\n",
    "            xticklabels=['Predicted Negative', 'Predicted Positive'],\n",
    "            yticklabels=['True Negative', 'True Positive'])\n",
    "plt.xlabel('Predicted')\n",
    "plt.ylabel('Actual')\n",
    "plt.title('Confusion Matrix')\n",
    "plt.show()\n",
    "\n",
    "accuracy = accuracy_score(y_true, y_pred)\n",
    "print(f\"Accuracy: {accuracy:.2%}\")"
   ]
  },
  {
   "cell_type": "code",
   "execution_count": 27,
   "id": "79735be0",
   "metadata": {
    "ExecuteTime": {
     "end_time": "2023-12-01T16:10:11.489150Z",
     "start_time": "2023-12-01T16:10:11.458698Z"
    }
   },
   "outputs": [
    {
     "data": {
      "text/plain": [
       "{'loss': [0.6872913241386414,\n",
       "  0.6630070209503174,\n",
       "  0.6078982353210449,\n",
       "  0.5629286766052246,\n",
       "  0.520764172077179,\n",
       "  0.4979870021343231,\n",
       "  0.4851733446121216,\n",
       "  0.4662149250507355,\n",
       "  0.4595789909362793,\n",
       "  0.4534068703651428],\n",
       " 'accuracy': [0.5788564085960388,\n",
       "  0.6013298034667969,\n",
       "  0.6609042286872864,\n",
       "  0.7028923034667969,\n",
       "  0.7442486882209778,\n",
       "  0.7661236524581909,\n",
       "  0.7780252695083618,\n",
       "  0.7894946932792664,\n",
       "  0.7967420220375061,\n",
       "  0.7983044981956482],\n",
       " 'precision': [0.5788564085960388,\n",
       "  0.5976203083992004,\n",
       "  0.6556371450424194,\n",
       "  0.6886435747146606,\n",
       "  0.7236805558204651,\n",
       "  0.7448083758354187,\n",
       "  0.7578917145729065,\n",
       "  0.7669430375099182,\n",
       "  0.775222897529602,\n",
       "  0.7772563099861145],\n",
       " 'recall': [1.0,\n",
       "  0.9522031545639038,\n",
       "  0.8719981908798218,\n",
       "  0.8884102702140808,\n",
       "  0.9027402997016907,\n",
       "  0.9064851403236389,\n",
       "  0.9059269428253174,\n",
       "  0.9140050411224365,\n",
       "  0.9138574600219727,\n",
       "  0.9132058024406433],\n",
       " 'f1_score': [array([0.73326033], dtype=float32),\n",
       "  array([0.7343493], dtype=float32),\n",
       "  array([0.74849594], dtype=float32),\n",
       "  array([0.7758747], dtype=float32),\n",
       "  array([0.80335367], dtype=float32),\n",
       "  array([0.8177319], dtype=float32),\n",
       "  array([0.8253238], dtype=float32),\n",
       "  array([0.834041], dtype=float32),\n",
       "  array([0.8388508], dtype=float32),\n",
       "  array([0.8397645], dtype=float32)],\n",
       " 'val_loss': [0.6969746947288513,\n",
       "  0.7520362734794617,\n",
       "  0.8596950173377991,\n",
       "  0.9429405927658081,\n",
       "  1.030731439590454,\n",
       "  1.070959210395813,\n",
       "  1.091631531715393,\n",
       "  1.1538492441177368,\n",
       "  1.173750877380371,\n",
       "  1.208624243736267],\n",
       " 'val_accuracy': [0.5084302425384521,\n",
       "  0.4659883677959442,\n",
       "  0.47441861033439636,\n",
       "  0.466133713722229,\n",
       "  0.47369185090065,\n",
       "  0.4597383737564087,\n",
       "  0.45915699005126953,\n",
       "  0.4569767415523529,\n",
       "  0.4677325487136841,\n",
       "  0.4700581431388855],\n",
       " 'val_precision': [0.5084302425384521,\n",
       "  0.4673832356929779,\n",
       "  0.4811621904373169,\n",
       "  0.46355685591697693,\n",
       "  0.47205814719200134,\n",
       "  0.42958199977874756,\n",
       "  0.4427911639213562,\n",
       "  0.4210875332355499,\n",
       "  0.4515366554260254,\n",
       "  0.45150721073150635],\n",
       " 'val_recall': [1.0,\n",
       "  0.36049172282218933,\n",
       "  0.4308176040649414,\n",
       "  0.3181818127632141,\n",
       "  0.2970268726348877,\n",
       "  0.19096626341342926,\n",
       "  0.24671240150928497,\n",
       "  0.18153230845928192,\n",
       "  0.21841052174568176,\n",
       "  0.19696970283985138],\n",
       " 'val_f1_score': [array([0.67411834], dtype=float32),\n",
       "  array([0.4070368], dtype=float32),\n",
       "  array([0.45460027], dtype=float32),\n",
       "  array([0.3773521], dtype=float32),\n",
       "  array([0.36462533], dtype=float32),\n",
       "  array([0.26439738], dtype=float32),\n",
       "  array([0.31687167], dtype=float32),\n",
       "  array([0.25369558], dtype=float32),\n",
       "  array([0.29441234], dtype=float32),\n",
       "  array([0.27428347], dtype=float32)]}"
      ]
     },
     "execution_count": 27,
     "metadata": {},
     "output_type": "execute_result"
    }
   ],
   "source": [
    "evaluation_result.history"
   ]
  }
 ],
 "metadata": {
  "kernelspec": {
   "display_name": "Python 3 (ipykernel)",
   "language": "python",
   "name": "python3"
  },
  "language_info": {
   "codemirror_mode": {
    "name": "ipython",
    "version": 3
   },
   "file_extension": ".py",
   "mimetype": "text/x-python",
   "name": "python",
   "nbconvert_exporter": "python",
   "pygments_lexer": "ipython3",
   "version": "3.9.18"
  }
 },
 "nbformat": 4,
 "nbformat_minor": 5
}
