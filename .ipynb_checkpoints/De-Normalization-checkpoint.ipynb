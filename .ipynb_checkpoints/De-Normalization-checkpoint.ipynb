{
 "cells": [
  {
   "cell_type": "code",
   "execution_count": 7,
   "id": "a5a9aa54",
   "metadata": {
    "ExecuteTime": {
     "end_time": "2023-11-29T06:31:03.802151Z",
     "start_time": "2023-11-29T06:31:03.794233Z"
    }
   },
   "outputs": [],
   "source": [
    "import tensorflow as tf\n",
    "import numpy as np\n",
    "from PIL import Image"
   ]
  },
  {
   "cell_type": "code",
   "execution_count": 11,
   "id": "8ddcc9bb",
   "metadata": {
    "ExecuteTime": {
     "end_time": "2023-11-29T06:39:12.404916Z",
     "start_time": "2023-11-29T06:39:09.829081Z"
    }
   },
   "outputs": [],
   "source": [
    "image = tf.keras.preprocessing.image.load_img(\"001_nonsleepyCombination_0_0.jpg\")\n",
    "image_arr = tf.keras.preprocessing.image.img_to_array(image)\n",
    "image_arr = tf.image.resize(image_arr, (224, 224)).numpy()\n",
    "image_arr = image_arr / 255"
   ]
  },
  {
   "cell_type": "code",
   "execution_count": 10,
   "id": "b05f5f11",
   "metadata": {
    "ExecuteTime": {
     "end_time": "2023-11-29T06:32:02.209642Z",
     "start_time": "2023-11-29T06:31:58.269537Z"
    }
   },
   "outputs": [],
   "source": [
    "# Denormalize the array\n",
    "denormalized_array = image_arr * 255\n",
    "\n",
    "# Convert the array to uint8 (required by PIL)\n",
    "denormalized_array = denormalized_array.astype(np.uint8)\n",
    "\n",
    "# Create an image from the array\n",
    "image = Image.fromarray(denormalized_array)\n",
    "\n",
    "# Display or save the image\n",
    "image.show()"
   ]
  }
 ],
 "metadata": {
  "kernelspec": {
   "display_name": "Python 3.9 (torch)",
   "language": "python",
   "name": "pytorch"
  },
  "language_info": {
   "codemirror_mode": {
    "name": "ipython",
    "version": 3
   },
   "file_extension": ".py",
   "mimetype": "text/x-python",
   "name": "python",
   "nbconvert_exporter": "python",
   "pygments_lexer": "ipython3",
   "version": "3.9.18"
  }
 },
 "nbformat": 4,
 "nbformat_minor": 5
}
