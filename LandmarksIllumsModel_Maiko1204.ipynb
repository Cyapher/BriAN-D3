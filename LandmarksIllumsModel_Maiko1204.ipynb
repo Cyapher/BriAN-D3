{
 "cells": [
  {
   "cell_type": "code",
   "execution_count": 1,
   "id": "49ac1435",
   "metadata": {
    "ExecuteTime": {
     "end_time": "2023-12-03T16:33:48.717090Z",
     "start_time": "2023-12-03T16:33:43.481115Z"
    },
    "code_folding": [
     0
    ]
   },
   "outputs": [],
   "source": [
    "# ===================== IMPORTS/LIBRARIES =====================\n",
    "\n",
    "import tensorflow as tf\n",
    "from mtcnn import MTCNN\n",
    "from pathlib import Path\n",
    "import pandas as pd\n",
    "import glob\n",
    "import cv2\n",
    "import csv\n",
    "import os\n",
    "import ast\n",
    "import pydot\n",
    "import pydotplus\n",
    "import graphviz\n",
    "from datetime import datetime\n",
    "import matplotlib.pyplot as plt\n",
    "from tensorflow.keras.optimizers import Adam\n",
    "import numpy as np\n",
    "import time\n",
    "\n",
    "from tensorflow.keras.models import Model\n",
    "from tensorflow.keras.callbacks import Callback"
   ]
  },
  {
   "cell_type": "code",
   "execution_count": 2,
   "id": "650123b7",
   "metadata": {
    "ExecuteTime": {
     "end_time": "2023-11-27T10:06:21.854207Z",
     "start_time": "2023-11-27T10:06:21.835576Z"
    },
    "code_folding": [
     0
    ]
   },
   "outputs": [],
   "source": [
    "# ===================== TRAINING HISTORY FUNCTIONS =====================\n",
    "def historyToCsv(history):\n",
    "    # convert the history.history dict to a pandas DataFrame:     \n",
    "    hist_df = pd.DataFrame(history.history) \n",
    "    \n",
    "    current_datetime = datetime.now()\n",
    "\n",
    "    # Convert the datetime object to a string\n",
    "    filename_friendly_datetime_string = current_datetime.strftime(\"%Y-%m-%d_%H-%M-%S\")\n",
    "    \n",
    "    # save to csv: \n",
    "    hist_csv_file = 'history' + filename_friendly_datetime_string + '.csv'\n",
    "    with open(hist_csv_file, mode='w') as f:\n",
    "        hist_df.to_csv(f)\n",
    "\n",
    "def csvToHistory(csv_filename):\n",
    "    # Read the CSV file into a pandas DataFrame\n",
    "    hist_df = pd.read_csv(csv_filename, index_col=0)\n",
    "\n",
    "    # Convert the DataFrame to a dictionary\n",
    "    history_dict = hist_df.to_dict(orient='list')\n",
    "\n",
    "    return history_dict"
   ]
  },
  {
   "cell_type": "code",
   "execution_count": 2,
   "id": "4fa734c8",
   "metadata": {
    "ExecuteTime": {
     "end_time": "2023-12-03T16:33:53.597410Z",
     "start_time": "2023-12-03T16:33:48.720079Z"
    },
    "code_folding": [
     0
    ]
   },
   "outputs": [
    {
     "name": "stdout",
     "output_type": "stream",
     "text": [
      "Model: \"model\"\n",
      "__________________________________________________________________________________________________\n",
      " Layer (type)                   Output Shape         Param #     Connected to                     \n",
      "==================================================================================================\n",
      " input_1 (InputLayer)           [(None, 224, 224, 3  0           []                               \n",
      "                                )]                                                                \n",
      "                                                                                                  \n",
      " block1_conv1 (Conv2D)          (None, 224, 224, 64  1792        ['input_1[0][0]']                \n",
      "                                )                                                                 \n",
      "                                                                                                  \n",
      " block1_conv2 (Conv2D)          (None, 224, 224, 64  36928       ['block1_conv1[0][0]']           \n",
      "                                )                                                                 \n",
      "                                                                                                  \n",
      " block1_pool (MaxPooling2D)     (None, 112, 112, 64  0           ['block1_conv2[0][0]']           \n",
      "                                )                                                                 \n",
      "                                                                                                  \n",
      " block2_conv1 (Conv2D)          (None, 112, 112, 12  73856       ['block1_pool[0][0]']            \n",
      "                                8)                                                                \n",
      "                                                                                                  \n",
      " block2_conv2 (Conv2D)          (None, 112, 112, 12  147584      ['block2_conv1[0][0]']           \n",
      "                                8)                                                                \n",
      "                                                                                                  \n",
      " block2_pool (MaxPooling2D)     (None, 56, 56, 128)  0           ['block2_conv2[0][0]']           \n",
      "                                                                                                  \n",
      " block3_conv1 (Conv2D)          (None, 56, 56, 256)  295168      ['block2_pool[0][0]']            \n",
      "                                                                                                  \n",
      " block3_conv2 (Conv2D)          (None, 56, 56, 256)  590080      ['block3_conv1[0][0]']           \n",
      "                                                                                                  \n",
      " block3_conv3 (Conv2D)          (None, 56, 56, 256)  590080      ['block3_conv2[0][0]']           \n",
      "                                                                                                  \n",
      " block3_pool (MaxPooling2D)     (None, 28, 28, 256)  0           ['block3_conv3[0][0]']           \n",
      "                                                                                                  \n",
      " block4_conv1 (Conv2D)          (None, 28, 28, 512)  1180160     ['block3_pool[0][0]']            \n",
      "                                                                                                  \n",
      " block4_conv2 (Conv2D)          (None, 28, 28, 512)  2359808     ['block4_conv1[0][0]']           \n",
      "                                                                                                  \n",
      " block4_conv3 (Conv2D)          (None, 28, 28, 512)  2359808     ['block4_conv2[0][0]']           \n",
      "                                                                                                  \n",
      " block4_pool (MaxPooling2D)     (None, 14, 14, 512)  0           ['block4_conv3[0][0]']           \n",
      "                                                                                                  \n",
      " block5_conv1 (Conv2D)          (None, 14, 14, 512)  2359808     ['block4_pool[0][0]']            \n",
      "                                                                                                  \n",
      " block5_conv2 (Conv2D)          (None, 14, 14, 512)  2359808     ['block5_conv1[0][0]']           \n",
      "                                                                                                  \n",
      " block5_conv3 (Conv2D)          (None, 14, 14, 512)  2359808     ['block5_conv2[0][0]']           \n",
      "                                                                                                  \n",
      " block5_pool (MaxPooling2D)     (None, 7, 7, 512)    0           ['block5_conv3[0][0]']           \n",
      "                                                                                                  \n",
      " flattened_features (Flatten)   (None, 25088)        0           ['block5_pool[0][0]']            \n",
      "                                                                                                  \n",
      " embedding (Dense)              (None, 512)          12845568    ['flattened_features[0][0]']     \n",
      "                                                                                                  \n",
      " additional_dense1 (Dense)      (None, 64)           32832       ['embedding[0][0]']              \n",
      "                                                                                                  \n",
      " additional_dense3 (Dense)      (None, 64)           32832       ['embedding[0][0]']              \n",
      "                                                                                                  \n",
      " additional_dense2 (Dense)      (None, 64)           4160        ['additional_dense1[0][0]']      \n",
      "                                                                                                  \n",
      " additional_dense4 (Dense)      (None, 64)           4160        ['additional_dense3[0][0]']      \n",
      "                                                                                                  \n",
      " landmark_output (Dense)        (None, 10)           650         ['additional_dense2[0][0]']      \n",
      "                                                                                                  \n",
      " previous_illuminance_output (D  (None, 1)           65          ['additional_dense4[0][0]']      \n",
      " ense)                                                                                            \n",
      "                                                                                                  \n",
      "==================================================================================================\n",
      "Total params: 27,634,955\n",
      "Trainable params: 27,634,955\n",
      "Non-trainable params: 0\n",
      "__________________________________________________________________________________________________\n"
     ]
    }
   ],
   "source": [
    "# ===================== MULTITASK MODEL SETUP =====================\n",
    "base_model = tf.keras.applications.VGG16(\n",
    "    include_top=False,\n",
    "    weights='imagenet',\n",
    "    input_shape=(224, 224, 3)\n",
    ")\n",
    "\n",
    "flattened_features = tf.keras.layers.Flatten(name='flattened_features')(base_model.output)\n",
    "\n",
    "embedding_layer = tf.keras.layers.Dense(512, activation='linear', name='embedding')(flattened_features)\n",
    "\n",
    "additional_dense_layer1 = tf.keras.layers.Dense(64, activation='relu', name='additional_dense1')(embedding_layer)\n",
    "additional_dense_layer2 = tf.keras.layers.Dense(64, activation='relu', name='additional_dense2')(additional_dense_layer1)\n",
    "\n",
    "additional_dense_layer3 = tf.keras.layers.Dense(64, activation='relu', name='additional_dense3')(embedding_layer)\n",
    "additional_dense_layer4 = tf.keras.layers.Dense(64, activation='relu', name='additional_dense4')(additional_dense_layer3)\n",
    "\n",
    "# additional_dense_layer3 = tf.keras.layers.Dense(64, activation='relu', name='additional_dense3')(flattened_features)\n",
    "\n",
    "landmarks = tf.keras.layers.Dense(10, activation='linear', name='landmark_output')(additional_dense_layer2)\n",
    "illum = tf.keras.layers.Dense(1, activation='linear', name='previous_illuminance_output')(additional_dense_layer4)\n",
    "\n",
    "# Reshape layer to the desired shape\n",
    "# reshaped_features = tf.keras.layers.Reshape((8, 8, 8))(embedding_layer)\n",
    "\n",
    "# Upsampling layers\n",
    "# upsample1 = tf.keras.layers.UpSampling2D(size=(7, 7))(reshaped_features)\n",
    "# upsample2 = tf.keras.layers.UpSampling2D(size=(2, 2))(upsample1)\n",
    "# upsample3 = tf.keras.layers.UpSampling2D(size=(2, 2))(upsample2)\n",
    "\n",
    "# retIllum = tf.keras.layers.Conv2D(3, kernel_size=(3, 3), activation='relu', padding='same', name='image_retinex_output')(upsample3)\n",
    "\n",
    "task_outputs = None\n",
    "\n",
    "task_outputs = [landmarks, illum]\n",
    "\n",
    "multi_task_model = tf.keras.Model(inputs=base_model.input, outputs=task_outputs)\n",
    "\n",
    "# Compile the model with specific loss functions and metrics for each task\n",
    "multi_task_model.compile(\n",
    "    optimizer=Adam(learning_rate=0.0001),\n",
    "    loss={\n",
    "        'landmark_output': 'mean_squared_error',\n",
    "        'previous_illuminance_output': 'mean_squared_error'\n",
    "#         'image_retinex_output': 'mean_squared_error'\n",
    "    },\n",
    "    metrics={\n",
    "        'landmark_output': ['mse', \"mae\"],\n",
    "        'previous_illuminance_output': ['mse', \"mae\"]\n",
    "#         'image_retinex_output': ['mse', \"mae\"]\n",
    "    }\n",
    ")\n",
    "\n",
    "# Summary of the multi-task model\n",
    "multi_task_model.summary()\n",
    "# plot_model(multi_task_model, to_file='model_plot.png', show_shapes=True, show_layer_names=True)"
   ]
  },
  {
   "cell_type": "code",
   "execution_count": 18,
   "id": "1565c5cc",
   "metadata": {
    "ExecuteTime": {
     "end_time": "2023-12-03T16:42:47.557182Z",
     "start_time": "2023-12-03T16:42:47.530644Z"
    },
    "code_folding": []
   },
   "outputs": [],
   "source": [
    "# ===================== MULTI-TASK DATA GEN =====================\n",
    "\n",
    "class CustomDataGen(tf.keras.utils.Sequence):\n",
    "    \n",
    "    def __init__(self, df, X_col, y_col,\n",
    "                 batch_size,\n",
    "                 input_size=(224, 224, 3),\n",
    "                 shuffle=True,\n",
    "                 random_seed=None):  # Add a new parameter for random seed\n",
    "        \n",
    "        self.df = df.copy()\n",
    "        self.X_col = X_col\n",
    "        self.y_col = y_col\n",
    "        self.batch_size = batch_size\n",
    "        self.input_size = input_size\n",
    "        self.shuffle = shuffle\n",
    "        self.random_seed = random_seed  # Store the random seed\n",
    "        \n",
    "        self.n = len(self.df)\n",
    "        self.n_coords = 2  # Assuming landmark coordinates are 2-dimensional\n",
    "        self.n_illuminance = 1  # Assuming a single illuminance value\n",
    "    \n",
    "    def on_epoch_end(self):\n",
    "        if self.shuffle:\n",
    "            self.df = self.df.sample(frac=1, random_state=self.random_seed).reset_index(drop=True)  # Use the random seed\n",
    "    \n",
    "    def __get_input(self, path, target_size):\n",
    "    \n",
    "        image = tf.keras.preprocessing.image.load_img(path)\n",
    "        image_arr = tf.keras.preprocessing.image.img_to_array(image)\n",
    "\n",
    "        image_arr = tf.image.resize(image_arr, (target_size[0], target_size[1])).numpy()\n",
    "\n",
    "        return image_arr / 255.\n",
    "    \n",
    "    def __get_output(self, label, output_type):\n",
    "        # Assuming output_type is 'coordinates', 'illuminance', or 'adjusted_image_path'\n",
    "        if output_type == 'coordinates':\n",
    "            # Assuming label is a string containing a dictionary-like structure\n",
    "            # Safely evaluate the string as a literal dictionary using ast.literal_eval\n",
    "            coordinates_dict = ast.literal_eval(label)\n",
    "            \n",
    "            # Extract x and y coordinates for each landmark\n",
    "            landmarks = ['left_eye', 'right_eye', 'nose', 'mouth_left', 'mouth_right']\n",
    "            coordinates_list = [coordinates_dict[landmark] for landmark in landmarks]\n",
    "            \n",
    "            # Flatten the list and convert to numpy array\n",
    "            coordinates_array = np.array([coord for landmark_coords in coordinates_list for coord in landmark_coords])\n",
    "            \n",
    "            coordinates_array = normalize_coordinates(coordinates_array, 640, 480)\n",
    "\n",
    "#             print(\"Shape of landmarks_array:\", coordinates_array.shape)\n",
    "            \n",
    "            # If there are exactly 10 values, return the array, otherwise raise an error\n",
    "            if len(coordinates_array) == 10:\n",
    "                return coordinates_array\n",
    "            else:\n",
    "                raise ValueError(\"Expected 10 coordinates, but found {}\".format(len(coordinates_array)))\n",
    "        elif output_type == 'illuminance':\n",
    "            # Convert the illuminance value to a float\n",
    "            return float(label)\n",
    "#         elif output_type == 'adjusted_image_path':\n",
    "#             # Assuming label is the path to the adjusted image\n",
    "#             return self.__get_input(label, self.input_size)\n",
    "    \n",
    "    def __get_data(self, batches):\n",
    "        # Generates data containing batch_size samples\n",
    "\n",
    "        path_batch = batches[self.X_col['path']]\n",
    "        \n",
    "        coords_batch = batches[self.y_col['coordinates']]\n",
    "        illuminance_batch = batches[self.y_col['illuminance']]\n",
    "#         adjusted_image_path_batch = batches[self.y_col['adjusted_image_path']]\n",
    "\n",
    "        X_batch = np.asarray([self.__get_input(x, self.input_size) for x in path_batch])\n",
    "\n",
    "        y0_batch = np.asarray([self.__get_output(y, 'coordinates') for y in coords_batch])\n",
    "        y1_batch = np.asarray([self.__get_output(y, 'illuminance') for y in illuminance_batch])\n",
    "#         y2_batch = np.asarray([self.__get_output(y, 'adjusted_image_path') for y in adjusted_image_path_batch])\n",
    "\n",
    "        return X_batch, [y0_batch, y1_batch]\n",
    "    \n",
    "    def __getitem__(self, index):\n",
    "        batches = self.df[index * self.batch_size:(index + 1) * self.batch_size]\n",
    "        X, y = self.__get_data(batches)\n",
    "        \n",
    "        return X, y\n",
    "    \n",
    "    def __len__(self):\n",
    "        return self.n // self.batch_size\n",
    "\n",
    "def normalize_coordinates(coordinates, original_width, original_height):\n",
    "    normalized_coordinates = np.zeros_like(coordinates, dtype=np.float32)\n",
    "    \n",
    "    for i in range(0, len(coordinates), 2):\n",
    "        x = coordinates[i]\n",
    "        y = coordinates[i + 1]\n",
    "        \n",
    "        normalized_x = (x / original_width)\n",
    "        normalized_y = (y / original_height)\n",
    "        \n",
    "        normalized_coordinates[i] = normalized_x\n",
    "        normalized_coordinates[i + 1] = normalized_y\n",
    "    \n",
    "    return normalized_coordinates"
   ]
  },
  {
   "cell_type": "code",
   "execution_count": 6,
   "id": "6772ee06",
   "metadata": {
    "ExecuteTime": {
     "end_time": "2023-12-03T16:35:48.397135Z",
     "start_time": "2023-12-03T16:35:48.377215Z"
    },
    "code_folding": [
     0
    ]
   },
   "outputs": [],
   "source": [
    "class DynamicLearningRateScheduler(Callback):\n",
    "    def __init__(self, monitor_metric='val_loss', patience=3, factor=0.5, min_lr=1e-6):\n",
    "        super(DynamicLearningRateScheduler, self).__init__()\n",
    "        self.monitor_metric = monitor_metric\n",
    "        self.patience = patience\n",
    "        self.factor = factor\n",
    "        self.min_lr = min_lr\n",
    "        self.wait = 0\n",
    "        self.best_metric = float('inf')\n",
    "\n",
    "    def on_epoch_end(self, epoch, logs=None):\n",
    "        current_metric = logs.get(self.monitor_metric)\n",
    "\n",
    "        if current_metric is None:\n",
    "            raise ValueError(f\"Metric {self.monitor_metric} not found in training logs.\")\n",
    "\n",
    "        if current_metric < self.best_metric:\n",
    "            self.best_metric = current_metric\n",
    "            self.wait = 0\n",
    "        else:\n",
    "            self.wait += 1\n",
    "            if self.wait >= self.patience:\n",
    "                new_lr = max(self.model.optimizer.lr * self.factor, self.min_lr)\n",
    "                self.model.optimizer.lr = new_lr\n",
    "                print(f\"\\nLearning rate reduced to {new_lr}.\")\n",
    "                self.wait = 0\n",
    "\n",
    "dynamicLearningCallback = DynamicLearningRateScheduler(monitor_metric='val_loss', patience=3, factor=0.5, min_lr=1e-6)"
   ]
  },
  {
   "cell_type": "code",
   "execution_count": 22,
   "id": "95b3649c",
   "metadata": {
    "ExecuteTime": {
     "end_time": "2023-12-03T18:26:15.901059Z",
     "start_time": "2023-12-03T18:26:15.666128Z"
    },
    "code_folding": []
   },
   "outputs": [],
   "source": [
    "# ===================== DATA GEN SETUP (LANDMARKS and ILLUMINANCE TASKS) =====================\n",
    "\n",
    "train_df = pd.read_csv(\"./data/training.csv\") # path to train_data csv\n",
    "train_df[\"Filename\"] = \"./data/Training/\" + train_df[\"Filename\"]\n",
    "\n",
    "# Define column indices or names for X and y\n",
    "X_col = {'path': 'Filename'}\n",
    "y_col = {'coordinates': 'Landmarks', 'illuminance': 'Illuminance'}\n",
    "\n",
    "# Create an instance of CustomDataGen\n",
    "train_gen = CustomDataGen(train_df, X_col, y_col, batch_size=32, input_size=(224, 224, 3), random_seed=438)\n",
    "\n",
    "eval_df = pd.read_csv(\"./data/evaluation.csv\") # path to eval_data csv\n",
    "eval_df[\"Filename\"] = \"./data/Evaluation/Evaluation/\" + eval_df[\"Filename\"]\n",
    "\n",
    "# Define column indices or names for X and y\n",
    "eval_X_col = {'path': 'Filename'}\n",
    "eval_y_col = {'coordinates': 'Landmarks', 'illuminance': 'Illuminance'}\n",
    "\n",
    "val_gen = CustomDataGen(eval_df, eval_X_col, eval_y_col, batch_size=32, input_size=(224, 224, 3), random_seed=438)"
   ]
  },
  {
   "cell_type": "code",
   "execution_count": 23,
   "id": "51d01800",
   "metadata": {
    "ExecuteTime": {
     "end_time": "2023-12-03T22:43:11.204074Z",
     "start_time": "2023-12-03T18:26:18.224689Z"
    }
   },
   "outputs": [
    {
     "name": "stdout",
     "output_type": "stream",
     "text": [
      "Epoch 1/20\n",
      "940/940 [==============================] - 1083s 1s/step - loss: 0.0116 - landmark_output_loss: 0.0102 - previous_illuminance_output_loss: 0.0014 - landmark_output_mse: 0.0102 - landmark_output_mae: 0.0645 - previous_illuminance_output_mse: 0.0014 - previous_illuminance_output_mae: 0.0290 - val_loss: 0.0066 - val_landmark_output_loss: 0.0062 - val_previous_illuminance_output_loss: 4.3634e-04 - val_landmark_output_mse: 0.0062 - val_landmark_output_mae: 0.0465 - val_previous_illuminance_output_mse: 4.3634e-04 - val_previous_illuminance_output_mae: 0.0178\n",
      "Epoch 2/20\n",
      "940/940 [==============================] - 762s 810ms/step - loss: 0.0041 - landmark_output_loss: 0.0040 - previous_illuminance_output_loss: 1.4874e-04 - landmark_output_mse: 0.0040 - landmark_output_mae: 0.0298 - previous_illuminance_output_mse: 1.4874e-04 - previous_illuminance_output_mae: 0.0095 - val_loss: 0.0043 - val_landmark_output_loss: 0.0041 - val_previous_illuminance_output_loss: 2.1060e-04 - val_landmark_output_mse: 0.0041 - val_landmark_output_mae: 0.0341 - val_previous_illuminance_output_mse: 2.1060e-04 - val_previous_illuminance_output_mae: 0.0117\n",
      "Epoch 3/20\n",
      "940/940 [==============================] - 761s 810ms/step - loss: 0.0033 - landmark_output_loss: 0.0032 - previous_illuminance_output_loss: 1.0622e-04 - landmark_output_mse: 0.0032 - landmark_output_mae: 0.0256 - previous_illuminance_output_mse: 1.0622e-04 - previous_illuminance_output_mae: 0.0080 - val_loss: 0.0033 - val_landmark_output_loss: 0.0031 - val_previous_illuminance_output_loss: 1.8635e-04 - val_landmark_output_mse: 0.0031 - val_landmark_output_mae: 0.0293 - val_previous_illuminance_output_mse: 1.8635e-04 - val_previous_illuminance_output_mae: 0.0111\n",
      "Epoch 4/20\n",
      "940/940 [==============================] - 762s 811ms/step - loss: 0.0031 - landmark_output_loss: 0.0030 - previous_illuminance_output_loss: 9.1484e-05 - landmark_output_mse: 0.0030 - landmark_output_mae: 0.0245 - previous_illuminance_output_mse: 9.1484e-05 - previous_illuminance_output_mae: 0.0074 - val_loss: 0.0045 - val_landmark_output_loss: 0.0042 - val_previous_illuminance_output_loss: 2.5206e-04 - val_landmark_output_mse: 0.0042 - val_landmark_output_mae: 0.0373 - val_previous_illuminance_output_mse: 2.5206e-04 - val_previous_illuminance_output_mae: 0.0133\n",
      "Epoch 5/20\n",
      "940/940 [==============================] - 763s 811ms/step - loss: 0.0031 - landmark_output_loss: 0.0030 - previous_illuminance_output_loss: 9.9605e-05 - landmark_output_mse: 0.0030 - landmark_output_mae: 0.0248 - previous_illuminance_output_mse: 9.9605e-05 - previous_illuminance_output_mae: 0.0077 - val_loss: 0.0044 - val_landmark_output_loss: 0.0039 - val_previous_illuminance_output_loss: 4.7378e-04 - val_landmark_output_mse: 0.0039 - val_landmark_output_mae: 0.0286 - val_previous_illuminance_output_mse: 4.7378e-04 - val_previous_illuminance_output_mae: 0.0197\n",
      "Epoch 6/20\n",
      "940/940 [==============================] - ETA: 0s - loss: 0.0030 - landmark_output_loss: 0.0029 - previous_illuminance_output_loss: 1.0738e-04 - landmark_output_mse: 0.0029 - landmark_output_mae: 0.0250 - previous_illuminance_output_mse: 1.0738e-04 - previous_illuminance_output_mae: 0.0080\n",
      "Learning rate reduced to 4.999999873689376e-05.\n",
      "940/940 [==============================] - 761s 809ms/step - loss: 0.0030 - landmark_output_loss: 0.0029 - previous_illuminance_output_loss: 1.0738e-04 - landmark_output_mse: 0.0029 - landmark_output_mae: 0.0250 - previous_illuminance_output_mse: 1.0738e-04 - previous_illuminance_output_mae: 0.0080 - val_loss: 0.0036 - val_landmark_output_loss: 0.0034 - val_previous_illuminance_output_loss: 1.9467e-04 - val_landmark_output_mse: 0.0034 - val_landmark_output_mae: 0.0293 - val_previous_illuminance_output_mse: 1.9467e-04 - val_previous_illuminance_output_mae: 0.0124\n",
      "Epoch 7/20\n",
      "940/940 [==============================] - 760s 808ms/step - loss: 0.0024 - landmark_output_loss: 0.0023 - previous_illuminance_output_loss: 6.5241e-05 - landmark_output_mse: 0.0023 - landmark_output_mae: 0.0191 - previous_illuminance_output_mse: 6.5241e-05 - previous_illuminance_output_mae: 0.0061 - val_loss: 0.0045 - val_landmark_output_loss: 0.0040 - val_previous_illuminance_output_loss: 5.0624e-04 - val_landmark_output_mse: 0.0040 - val_landmark_output_mae: 0.0274 - val_previous_illuminance_output_mse: 5.0624e-04 - val_previous_illuminance_output_mae: 0.0182\n",
      "Epoch 8/20\n",
      "940/940 [==============================] - 762s 811ms/step - loss: 0.0023 - landmark_output_loss: 0.0022 - previous_illuminance_output_loss: 7.7552e-05 - landmark_output_mse: 0.0022 - landmark_output_mae: 0.0192 - previous_illuminance_output_mse: 7.7552e-05 - previous_illuminance_output_mae: 0.0067 - val_loss: 0.0033 - val_landmark_output_loss: 0.0030 - val_previous_illuminance_output_loss: 2.7311e-04 - val_landmark_output_mse: 0.0030 - val_landmark_output_mae: 0.0211 - val_previous_illuminance_output_mse: 2.7311e-04 - val_previous_illuminance_output_mae: 0.0141\n",
      "Epoch 9/20\n",
      "940/940 [==============================] - 762s 810ms/step - loss: 0.0022 - landmark_output_loss: 0.0022 - previous_illuminance_output_loss: 6.4679e-05 - landmark_output_mse: 0.0022 - landmark_output_mae: 0.0184 - previous_illuminance_output_mse: 6.4679e-05 - previous_illuminance_output_mae: 0.0061 - val_loss: 0.0032 - val_landmark_output_loss: 0.0031 - val_previous_illuminance_output_loss: 1.4648e-04 - val_landmark_output_mse: 0.0031 - val_landmark_output_mae: 0.0232 - val_previous_illuminance_output_mse: 1.4648e-04 - val_previous_illuminance_output_mae: 0.0099\n",
      "Epoch 10/20\n",
      "940/940 [==============================] - 759s 808ms/step - loss: 0.0021 - landmark_output_loss: 0.0021 - previous_illuminance_output_loss: 5.9523e-05 - landmark_output_mse: 0.0021 - landmark_output_mae: 0.0187 - previous_illuminance_output_mse: 5.9523e-05 - previous_illuminance_output_mae: 0.0059 - val_loss: 0.0032 - val_landmark_output_loss: 0.0030 - val_previous_illuminance_output_loss: 1.0853e-04 - val_landmark_output_mse: 0.0030 - val_landmark_output_mae: 0.0224 - val_previous_illuminance_output_mse: 1.0853e-04 - val_previous_illuminance_output_mae: 0.0087\n",
      "Epoch 11/20\n",
      "940/940 [==============================] - 771s 821ms/step - loss: 0.0021 - landmark_output_loss: 0.0020 - previous_illuminance_output_loss: 6.3850e-05 - landmark_output_mse: 0.0020 - landmark_output_mae: 0.0182 - previous_illuminance_output_mse: 6.3850e-05 - previous_illuminance_output_mae: 0.0060 - val_loss: 0.0035 - val_landmark_output_loss: 0.0034 - val_previous_illuminance_output_loss: 1.3734e-04 - val_landmark_output_mse: 0.0034 - val_landmark_output_mae: 0.0233 - val_previous_illuminance_output_mse: 1.3734e-04 - val_previous_illuminance_output_mae: 0.0097\n",
      "Epoch 12/20\n",
      "940/940 [==============================] - 804s 855ms/step - loss: 0.0020 - landmark_output_loss: 0.0020 - previous_illuminance_output_loss: 5.7872e-05 - landmark_output_mse: 0.0020 - landmark_output_mae: 0.0173 - previous_illuminance_output_mse: 5.7872e-05 - previous_illuminance_output_mae: 0.0058 - val_loss: 0.0030 - val_landmark_output_loss: 0.0028 - val_previous_illuminance_output_loss: 1.6260e-04 - val_landmark_output_mse: 0.0028 - val_landmark_output_mae: 0.0217 - val_previous_illuminance_output_mse: 1.6260e-04 - val_previous_illuminance_output_mae: 0.0105\n",
      "Epoch 13/20\n",
      "940/940 [==============================] - 759s 808ms/step - loss: 0.0020 - landmark_output_loss: 0.0019 - previous_illuminance_output_loss: 5.5719e-05 - landmark_output_mse: 0.0019 - landmark_output_mae: 0.0169 - previous_illuminance_output_mse: 5.5719e-05 - previous_illuminance_output_mae: 0.0057 - val_loss: 0.0032 - val_landmark_output_loss: 0.0031 - val_previous_illuminance_output_loss: 9.9347e-05 - val_landmark_output_mse: 0.0031 - val_landmark_output_mae: 0.0210 - val_previous_illuminance_output_mse: 9.9347e-05 - val_previous_illuminance_output_mae: 0.0081\n",
      "Epoch 14/20\n",
      "940/940 [==============================] - 737s 784ms/step - loss: 0.0267 - landmark_output_loss: 0.0185 - previous_illuminance_output_loss: 0.0082 - landmark_output_mse: 0.0185 - landmark_output_mae: 0.0809 - previous_illuminance_output_mse: 0.0082 - previous_illuminance_output_mae: 0.0812 - val_loss: 0.0240 - val_landmark_output_loss: 0.0151 - val_previous_illuminance_output_loss: 0.0089 - val_landmark_output_mse: 0.0151 - val_landmark_output_mae: 0.0664 - val_previous_illuminance_output_mse: 0.0089 - val_previous_illuminance_output_mae: 0.0898\n"
     ]
    },
    {
     "name": "stdout",
     "output_type": "stream",
     "text": [
      "Epoch 15/20\n",
      "940/940 [==============================] - ETA: 0s - loss: 0.0283 - landmark_output_loss: 0.0196 - previous_illuminance_output_loss: 0.0087 - landmark_output_mse: 0.0196 - landmark_output_mae: 0.0850 - previous_illuminance_output_mse: 0.0087 - previous_illuminance_output_mae: 0.0875\n",
      "Learning rate reduced to 2.499999936844688e-05.\n",
      "940/940 [==============================] - 733s 780ms/step - loss: 0.0283 - landmark_output_loss: 0.0196 - previous_illuminance_output_loss: 0.0087 - landmark_output_mse: 0.0196 - landmark_output_mae: 0.0850 - previous_illuminance_output_mse: 0.0087 - previous_illuminance_output_mae: 0.0875 - val_loss: 0.0250 - val_landmark_output_loss: 0.0160 - val_previous_illuminance_output_loss: 0.0091 - val_landmark_output_mse: 0.0160 - val_landmark_output_mae: 0.0663 - val_previous_illuminance_output_mse: 0.0091 - val_previous_illuminance_output_mae: 0.0892\n",
      "Epoch 16/20\n",
      "940/940 [==============================] - 732s 779ms/step - loss: 0.0279 - landmark_output_loss: 0.0194 - previous_illuminance_output_loss: 0.0086 - landmark_output_mse: 0.0194 - landmark_output_mae: 0.0842 - previous_illuminance_output_mse: 0.0086 - previous_illuminance_output_mae: 0.0876 - val_loss: 0.0245 - val_landmark_output_loss: 0.0156 - val_previous_illuminance_output_loss: 0.0089 - val_landmark_output_mse: 0.0156 - val_landmark_output_mae: 0.0657 - val_previous_illuminance_output_mse: 0.0089 - val_previous_illuminance_output_mae: 0.0898\n",
      "Epoch 17/20\n",
      "940/940 [==============================] - 738s 785ms/step - loss: 0.0280 - landmark_output_loss: 0.0194 - previous_illuminance_output_loss: 0.0086 - landmark_output_mse: 0.0194 - landmark_output_mae: 0.0843 - previous_illuminance_output_mse: 0.0086 - previous_illuminance_output_mae: 0.0877 - val_loss: 0.0249 - val_landmark_output_loss: 0.0154 - val_previous_illuminance_output_loss: 0.0096 - val_landmark_output_mse: 0.0154 - val_landmark_output_mae: 0.0696 - val_previous_illuminance_output_mse: 0.0096 - val_previous_illuminance_output_mae: 0.0883\n",
      "Epoch 18/20\n",
      "940/940 [==============================] - ETA: 0s - loss: 0.0279 - landmark_output_loss: 0.0194 - previous_illuminance_output_loss: 0.0086 - landmark_output_mse: 0.0194 - landmark_output_mae: 0.0843 - previous_illuminance_output_mse: 0.0086 - previous_illuminance_output_mae: 0.0875\n",
      "Learning rate reduced to 1.249999968422344e-05.\n",
      "940/940 [==============================] - 733s 780ms/step - loss: 0.0279 - landmark_output_loss: 0.0194 - previous_illuminance_output_loss: 0.0086 - landmark_output_mse: 0.0194 - landmark_output_mae: 0.0843 - previous_illuminance_output_mse: 0.0086 - previous_illuminance_output_mae: 0.0875 - val_loss: 0.0241 - val_landmark_output_loss: 0.0153 - val_previous_illuminance_output_loss: 0.0088 - val_landmark_output_mse: 0.0153 - val_landmark_output_mae: 0.0662 - val_previous_illuminance_output_mse: 0.0088 - val_previous_illuminance_output_mae: 0.0907\n",
      "Epoch 19/20\n",
      "940/940 [==============================] - 733s 780ms/step - loss: 0.0279 - landmark_output_loss: 0.0193 - previous_illuminance_output_loss: 0.0085 - landmark_output_mse: 0.0193 - landmark_output_mae: 0.0841 - previous_illuminance_output_mse: 0.0085 - previous_illuminance_output_mae: 0.0876 - val_loss: 0.0246 - val_landmark_output_loss: 0.0157 - val_previous_illuminance_output_loss: 0.0089 - val_landmark_output_mse: 0.0157 - val_landmark_output_mae: 0.0629 - val_previous_illuminance_output_mse: 0.0089 - val_previous_illuminance_output_mae: 0.0896\n",
      "Epoch 20/20\n",
      "940/940 [==============================] - 737s 784ms/step - loss: 0.0279 - landmark_output_loss: 0.0193 - previous_illuminance_output_loss: 0.0085 - landmark_output_mse: 0.0193 - landmark_output_mae: 0.0841 - previous_illuminance_output_mse: 0.0085 - previous_illuminance_output_mae: 0.0876 - val_loss: 0.0245 - val_landmark_output_loss: 0.0156 - val_previous_illuminance_output_loss: 0.0089 - val_landmark_output_mse: 0.0156 - val_landmark_output_mae: 0.0637 - val_previous_illuminance_output_mse: 0.0089 - val_previous_illuminance_output_mae: 0.0896\n"
     ]
    }
   ],
   "source": [
    "history = multi_task_model.fit(train_gen, epochs=20, validation_data=val_gen, callbacks=[dynamicLearningCallback])"
   ]
  },
  {
   "cell_type": "code",
   "execution_count": 25,
   "id": "51e42326",
   "metadata": {
    "ExecuteTime": {
     "end_time": "2023-12-04T02:46:32.789052Z",
     "start_time": "2023-12-04T02:46:31.804756Z"
    }
   },
   "outputs": [],
   "source": [
    "# ===================== SAVE MODEL WEIGHTS =====================\n",
    "\n",
    "multi_task_model.save('LandmarksIlluminanceModel.keras')"
   ]
  },
  {
   "cell_type": "code",
   "execution_count": 24,
   "id": "39fa16f6",
   "metadata": {
    "ExecuteTime": {
     "end_time": "2023-12-04T02:43:34.260591Z",
     "start_time": "2023-12-04T02:43:33.632499Z"
    }
   },
   "outputs": [
    {
     "data": {
      "image/png": "[encoded data removed]",
      "text/plain": [
       "<Figure size 640x480 with 1 Axes>"
      ]
     },
     "metadata": {},
     "output_type": "display_data"
    }
   ],
   "source": [
    "# Extract training and validation loss values\n",
    "loss = history.history['loss']\n",
    "val_loss = history.history['val_loss']\n",
    "\n",
    "# Plot training and validation loss\n",
    "epochs = range(1, len(loss) + 1)\n",
    "\n",
    "plt.plot(epochs, loss, 'bo', label='Training Loss')\n",
    "plt.plot(epochs, val_loss, 'r', label='Validation Loss')\n",
    "plt.title('Training and Validation Loss')\n",
    "plt.xlabel('Epochs')\n",
    "plt.ylabel('Loss')\n",
    "plt.legend()\n",
    "\n",
    "plt.show()"
   ]
  }
 ],
 "metadata": {
  "kernelspec": {
   "display_name": "Python 3 (ipykernel)",
   "language": "python",
   "name": "python3"
  },
  "language_info": {
   "codemirror_mode": {
    "name": "ipython",
    "version": 3
   },
   "file_extension": ".py",
   "mimetype": "text/x-python",
   "name": "python",
   "nbconvert_exporter": "python",
   "pygments_lexer": "ipython3",
   "version": "3.9.18"
  }
 },
 "nbformat": 4,
 "nbformat_minor": 5
}
